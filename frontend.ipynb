{
 "cells": [
  {
   "cell_type": "code",
   "execution_count": null,
   "metadata": {
    "collapsed": false,
    "deletable": true,
    "editable": true
   },
   "outputs": [
    {
     "name": "stdout",
     "output_type": "stream",
     "text": [
      "Puzzle\n",
      "\n",
      "One of these books is The rise of ethnic politics in Nepal : democracy in the\n",
      "margins but you can only see the the Library of Congress call numbers. For more\n",
      "information about these look at this website:\n",
      "https://www.loc.gov/catdir/cpso/lcco/\n",
      "[1] HQ784.C55 A45 2010\n",
      "[2] PS3566.Y55Z6956 2013\n",
      "[3] GN635.N425H365 2010\n",
      "[4] LA227.4.B665 2013\n",
      "[5] ML410.S932G73 2013\n"
     ]
    }
   ],
   "source": [
    "import main\n",
    "main.go()"
   ]
  }
 ],
 "metadata": {
  "kernelspec": {
   "display_name": "Python 3",
   "language": "python",
   "name": "python3"
  },
  "language_info": {
   "codemirror_mode": {
    "name": "ipython",
    "version": 3
   },
   "file_extension": ".py",
   "mimetype": "text/x-python",
   "name": "python",
   "nbconvert_exporter": "python",
   "pygments_lexer": "ipython3",
   "version": "3.5.2"
  }
 },
 "nbformat": 4,
 "nbformat_minor": 2
}
